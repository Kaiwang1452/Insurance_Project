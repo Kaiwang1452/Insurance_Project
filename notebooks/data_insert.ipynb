{
 "cells": [
  {
   "cell_type": "code",
   "execution_count": 2,
   "id": "b76c91db-7fab-4586-ab90-1d7c220f2347",
   "metadata": {},
   "outputs": [
    {
     "name": "stdout",
     "output_type": "stream",
     "text": [
      "Collecting mysql-connector-python\n",
      "  Downloading mysql_connector_python-9.2.0-cp312-cp312-win_amd64.whl.metadata (6.2 kB)\n",
      "Downloading mysql_connector_python-9.2.0-cp312-cp312-win_amd64.whl (16.1 MB)\n",
      "   ---------------------------------------- 0.0/16.1 MB ? eta -:--:--\n",
      "   --------- ------------------------------ 3.7/16.1 MB 18.1 MB/s eta 0:00:01\n",
      "   ------------------- -------------------- 7.9/16.1 MB 18.7 MB/s eta 0:00:01\n",
      "   ----------------------------- ---------- 11.8/16.1 MB 18.5 MB/s eta 0:00:01\n",
      "   ---------------------------------------  15.7/16.1 MB 18.7 MB/s eta 0:00:01\n",
      "   ---------------------------------------- 16.1/16.1 MB 15.1 MB/s eta 0:00:00\n",
      "Installing collected packages: mysql-connector-python\n",
      "Successfully installed mysql-connector-python-9.2.0\n"
     ]
    }
   ],
   "source": [
    "!pip install mysql-connector-python"
   ]
  },
  {
   "cell_type": "code",
   "execution_count": 3,
   "id": "0cf8fa90-2170-4d69-a91f-917b22333f20",
   "metadata": {},
   "outputs": [],
   "source": [
    "import mysql.connector"
   ]
  },
  {
   "cell_type": "code",
   "execution_count": 4,
   "id": "6bc5373d-2388-4e97-b864-85d2bce486f6",
   "metadata": {},
   "outputs": [],
   "source": [
    "import pandas as pd"
   ]
  },
  {
   "cell_type": "code",
   "execution_count": 5,
   "id": "613e7dcc-b193-4403-8629-1c3dbb6be871",
   "metadata": {},
   "outputs": [
    {
     "name": "stdout",
     "output_type": "stream",
     "text": [
      "Data inserted successfully.\n"
     ]
    }
   ],
   "source": [
    "# Load cleaned insurance data\n",
    "df = pd.read_csv('C:/Users/fukai/OneDrive/Documents/insurance-database-project/data/insurance.csv')\n",
    "\n",
    "# Connect to MySQL\n",
    "conn = mysql.connector.connect(\n",
    "    host='localhost',\n",
    "    user='root',\n",
    "    password='Azsx1452123.',\n",
    "    database='insurance_db'\n",
    ")\n",
    "cursor = conn.cursor()\n",
    "\n",
    "# Insert data row by row\n",
    "for index, row in df.iterrows():\n",
    "    sql = '''\n",
    "    INSERT INTO insurance_data (age, sex, bmi, children, smoker, region, charges)\n",
    "    VALUES (%s, %s, %s, %s, %s, %s, %s)\n",
    "    '''\n",
    "    values = (row['age'], row['sex'], row['bmi'], row['children'], row['smoker'], row['region'], row['charges'])\n",
    "    cursor.execute(sql, values)\n",
    "\n",
    "# Commit changes and close connection\n",
    "conn.commit()\n",
    "conn.close()\n",
    "\n",
    "print(\"Data inserted successfully.\")"
   ]
  },
  {
   "cell_type": "code",
   "execution_count": 8,
   "id": "7b822001-b489-4d10-8688-7bd2e0d4a07e",
   "metadata": {},
   "outputs": [
    {
     "name": "stdout",
     "output_type": "stream",
     "text": [
      "   id  age     sex     bmi  children smoker     region   charges\n",
      "0   1   19  female  27.900         0    yes  southwest  16884.90\n",
      "1   2   18    male  33.770         1     no  southeast   1725.55\n",
      "2   3   28    male  33.000         3     no  southeast   4449.46\n",
      "3   4   33    male  22.705         0     no  northwest  21984.50\n",
      "4   5   32    male  28.880         0     no  northwest   3866.86\n"
     ]
    },
    {
     "name": "stderr",
     "output_type": "stream",
     "text": [
      "C:\\Users\\fukai\\AppData\\Local\\Temp\\ipykernel_4480\\2627741885.py:14: UserWarning: pandas only supports SQLAlchemy connectable (engine/connection) or database string URI or sqlite3 DBAPI2 connection. Other DBAPI2 objects are not tested. Please consider using SQLAlchemy.\n",
      "  df = pd.read_sql(query, conn)\n"
     ]
    }
   ],
   "source": [
    "import mysql.connector\n",
    "import pandas as pd\n",
    "\n",
    "# Connect to MySQL\n",
    "conn = mysql.connector.connect(\n",
    "    host='localhost',\n",
    "    user='root',\n",
    "    password='Azsx1452123.',\n",
    "    database='insurance_db'\n",
    ")\n",
    "\n",
    "# Run a SQL query to fetch data\n",
    "query = \"SELECT * FROM insurance_data LIMIT 10;\"\n",
    "df = pd.read_sql(query, conn)\n",
    "\n",
    "# Show retrieved data\n",
    "print(df.head())\n"
   ]
  },
  {
   "cell_type": "code",
   "execution_count": 9,
   "id": "d43d40c5-eb6d-4403-896f-26a339fc3403",
   "metadata": {},
   "outputs": [],
   "source": [
    "conn.close()"
   ]
  },
  {
   "cell_type": "code",
   "execution_count": 10,
   "id": "71d96274-4b70-4d34-aedf-689634420a77",
   "metadata": {},
   "outputs": [],
   "source": [
    "df.to_csv('C:/Users/fukai/OneDrive/Documents/insurance-database-project/data/exported_insurance.csv', index=False)"
   ]
  },
  {
   "cell_type": "code",
   "execution_count": 12,
   "id": "a719f200-28d6-402a-9734-f993feeccb0d",
   "metadata": {},
   "outputs": [
    {
     "name": "stdout",
     "output_type": "stream",
     "text": [
      "Report generated successfully.\n"
     ]
    },
    {
     "name": "stderr",
     "output_type": "stream",
     "text": [
      "C:\\Users\\fukai\\AppData\\Local\\Temp\\ipykernel_4480\\3698700079.py:9: UserWarning: pandas only supports SQLAlchemy connectable (engine/connection) or database string URI or sqlite3 DBAPI2 connection. Other DBAPI2 objects are not tested. Please consider using SQLAlchemy.\n",
      "  df_summary = pd.read_sql(query, conn)\n"
     ]
    }
   ],
   "source": [
    "def generate_report():\n",
    "    conn = mysql.connector.connect(\n",
    "        host='localhost',\n",
    "        user='root',\n",
    "        password='Azsx1452123.',\n",
    "        database='insurance_db'\n",
    "    )\n",
    "    query = \"SELECT region, AVG(charges) AS avg_cost FROM insurance_data GROUP BY region\"\n",
    "    df_summary = pd.read_sql(query, conn)\n",
    "    df_summary.to_csv('C:/Users/fukai/OneDrive/Documents/insurance-database-project/reports/insurance_summary.csv', index=False)\n",
    "    conn.close()\n",
    "    print(\"Report generated successfully.\")\n",
    "\n",
    "generate_report()"
   ]
  },
  {
   "cell_type": "code",
   "execution_count": null,
   "id": "58c72704-206b-4cf4-91aa-483735284513",
   "metadata": {},
   "outputs": [],
   "source": []
  }
 ],
 "metadata": {
  "kernelspec": {
   "display_name": "Python 3 (ipykernel)",
   "language": "python",
   "name": "python3"
  },
  "language_info": {
   "codemirror_mode": {
    "name": "ipython",
    "version": 3
   },
   "file_extension": ".py",
   "mimetype": "text/x-python",
   "name": "python",
   "nbconvert_exporter": "python",
   "pygments_lexer": "ipython3",
   "version": "3.12.7"
  }
 },
 "nbformat": 4,
 "nbformat_minor": 5
}
